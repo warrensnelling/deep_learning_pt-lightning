{
 "cells": [
  {
   "cell_type": "markdown",
   "id": "95a89519-03ef-403d-adbc-d8e9af6748d1",
   "metadata": {
    "tags": []
   },
   "source": [
    "![Practicum AI Logo image](https://github.com/PracticumAI/practicumai.github.io/blob/main/images/logo/PracticumAI_logo_250x50.png?raw=true) <img src=\"images/practicumai_deep_learning.png\" alt=\"Practicum AI: Transfer Learning icon\" align=\"right\" width=50>\n",
    "***"
   ]
  },
  {
   "cell_type": "markdown",
   "id": "72a4249d-1925-4058-b957-74cd164c9c07",
   "metadata": {},
   "source": [
    "## Atlas Instructions\n",
    "\n",
    "For users running these notebooks on Atlas, **open a Terminal**, and run the following code to load miniconda, activate the `dlf_env` and create the dlf_workshop kernel to use for the workshop.p\"\r\n",
    "\r\n",
    "\r\n"
   ]
  },
  {
   "cell_type": "raw",
   "id": "c0e8ab4f-825b-44a9-859f-7bed632b2d6b",
   "metadata": {},
   "source": [
    "# Note this is a \"raw text\" cell, you need to copy/paste the\n",
    "# commands below into a Terminal\n",
    "\n",
    "module load miniconda3\n",
    "conda activate /project/scinet_workshop1/deep_learning_foundations/dlf_env/\n",
    "python -m ipykernel install --user --name \"dlf_workshop\""
   ]
  },
  {
   "cell_type": "markdown",
   "id": "73d47161-6f3c-449a-996b-c1e7278600a1",
   "metadata": {},
   "source": [
    "### Error: CondaError: Run 'conda init' before 'conda activate'\n",
    "\n",
    "If you get an error that says \"CondaError: Run 'conda init' before 'conda activate'\"\n",
    "\n",
    "Run these commands:"
   ]
  },
  {
   "cell_type": "raw",
   "id": "f21e949a-4003-42da-a40b-652b5f7f3596",
   "metadata": {},
   "source": [
    "# Note this is a \"raw text\" cell, you need to copy/paste the\n",
    "# commands below into a Terminal\n",
    "\n",
    "conda init\n",
    "source ~/.bashrc\n",
    "conda activate /project/scinet_workshop1/deep_learning_foundations/dlf_env/\n",
    "python -m ipykernel install --user --name \"dlf_workshop\""
   ]
  }
 ],
 "metadata": {
  "kernelspec": {
   "display_name": "dlf_workshop",
   "language": "python",
   "name": "dlf_workshop"
  },
  "language_info": {
   "codemirror_mode": {
    "name": "ipython",
    "version": 3
   },
   "file_extension": ".py",
   "mimetype": "text/x-python",
   "name": "python",
   "nbconvert_exporter": "python",
   "pygments_lexer": "ipython3",
   "version": "3.11.13"
  }
 },
 "nbformat": 4,
 "nbformat_minor": 5
}
